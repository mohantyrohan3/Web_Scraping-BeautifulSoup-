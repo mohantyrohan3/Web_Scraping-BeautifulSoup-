{
 "cells": [
  {
   "cell_type": "markdown",
   "id": "17287e18",
   "metadata": {},
   "source": [
    "# Find all the quotes by Albert Einstein(in the order they appear on the page) from this website\n",
    "http://quotes.toscrape.com/"
   ]
  },
  {
   "cell_type": "code",
   "execution_count": 1,
   "id": "d9dc1d9e",
   "metadata": {},
   "outputs": [],
   "source": [
    "from bs4 import BeautifulSoup\n",
    "import requests"
   ]
  },
  {
   "cell_type": "code",
   "execution_count": 2,
   "id": "1ffac5e9",
   "metadata": {},
   "outputs": [
    {
     "data": {
      "text/plain": [
       "['http://quotes.toscrape.com/page/1/',\n",
       " 'http://quotes.toscrape.com/page/2/',\n",
       " 'http://quotes.toscrape.com/page/3/',\n",
       " 'http://quotes.toscrape.com/page/4/',\n",
       " 'http://quotes.toscrape.com/page/5/',\n",
       " 'http://quotes.toscrape.com/page/6/',\n",
       " 'http://quotes.toscrape.com/page/7/',\n",
       " 'http://quotes.toscrape.com/page/8/',\n",
       " 'http://quotes.toscrape.com/page/9/',\n",
       " 'http://quotes.toscrape.com/page/10/']"
      ]
     },
     "execution_count": 2,
     "metadata": {},
     "output_type": "execute_result"
    }
   ],
   "source": [
    "# Making Links\n",
    "i=1\n",
    "Links=[]\n",
    "while i<=10:\n",
    "    Links.append(\"http://quotes.toscrape.com/page/\"+str(i)+\"/\")\n",
    "    i+=1\n",
    "Links"
   ]
  },
  {
   "cell_type": "code",
   "execution_count": 3,
   "id": "5dbd3cd3",
   "metadata": {},
   "outputs": [
    {
     "data": {
      "text/plain": [
       "['“The world as we have created it is a process of our thinking. It cannot be changed without changing our thinking.”',\n",
       " '“There are only two ways to live your life. One is as though nothing is a miracle. The other is as though everything is a miracle.”',\n",
       " '“Try not to become a man of success. Rather become a man of value.”',\n",
       " \"“If you can't explain it to a six year old, you don't understand it yourself.”\",\n",
       " '“If you want your children to be intelligent, read them fairy tales. If you want them to be more intelligent, read them more fairy tales.”',\n",
       " '“Logic will get you from A to Z; imagination will get you everywhere.”',\n",
       " '“Any fool can know. The point is to understand.”',\n",
       " '“Life is like riding a bicycle. To keep your balance, you must keep moving.”',\n",
       " '“If I were not a physicist, I would probably be a musician. I often think in music. I live my daydreams in music. I see my life in terms of music.”',\n",
       " '“Anyone who has never made a mistake has never tried anything new.”']"
      ]
     },
     "execution_count": 3,
     "metadata": {},
     "output_type": "execute_result"
    }
   ],
   "source": [
    "ans=[]\n",
    "for i in Links:\n",
    "    r=requests.get(i)\n",
    "    html=r.text\n",
    "    data=BeautifulSoup(html,'html.parser')\n",
    "    temp=data.find_all('div',class_='quote')\n",
    "    for j in temp:\n",
    "        auth=j.find('small',class_='author')\n",
    "        if auth.string=='Albert Einstein':\n",
    "            ans.append(j.span.string)\n",
    "ans"
   ]
  },
  {
   "cell_type": "code",
   "execution_count": 4,
   "id": "21711c7c",
   "metadata": {},
   "outputs": [
    {
     "name": "stdout",
     "output_type": "stream",
     "text": [
      "“The world as we have created it is a process of our thinking. It cannot be changed without changing our thinking.”\n",
      "“There are only two ways to live your life. One is as though nothing is a miracle. The other is as though everything is a miracle.”\n",
      "“Try not to become a man of success. Rather become a man of value.”\n",
      "“If you can't explain it to a six year old, you don't understand it yourself.”\n",
      "“If you want your children to be intelligent, read them fairy tales. If you want them to be more intelligent, read them more fairy tales.”\n",
      "“Logic will get you from A to Z; imagination will get you everywhere.”\n",
      "“Any fool can know. The point is to understand.”\n",
      "“Life is like riding a bicycle. To keep your balance, you must keep moving.”\n",
      "“If I were not a physicist, I would probably be a musician. I often think in music. I live my daydreams in music. I see my life in terms of music.”\n",
      "“Anyone who has never made a mistake has never tried anything new.”\n"
     ]
    }
   ],
   "source": [
    "# Answer\n",
    "for m in ans:\n",
    "    print(m)"
   ]
  }
 ],
 "metadata": {
  "kernelspec": {
   "display_name": "Python 3 (ipykernel)",
   "language": "python",
   "name": "python3"
  },
  "language_info": {
   "codemirror_mode": {
    "name": "ipython",
    "version": 3
   },
   "file_extension": ".py",
   "mimetype": "text/x-python",
   "name": "python",
   "nbconvert_exporter": "python",
   "pygments_lexer": "ipython3",
   "version": "3.9.7"
  }
 },
 "nbformat": 4,
 "nbformat_minor": 5
}
