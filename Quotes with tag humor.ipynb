{
 "cells": [
  {
   "cell_type": "markdown",
   "id": "033102cf",
   "metadata": {},
   "source": []
  },
  {
   "cell_type": "code",
   "execution_count": 1,
   "id": "db58a97e",
   "metadata": {},
   "outputs": [],
   "source": [
    "from bs4 import BeautifulSoup\n",
    "import requests"
   ]
  },
  {
   "cell_type": "code",
   "execution_count": 3,
   "id": "a9f31d12",
   "metadata": {},
   "outputs": [
    {
     "data": {
      "text/plain": [
       "['http://quotes.toscrape.com/page/1/',\n",
       " 'http://quotes.toscrape.com/page/2/',\n",
       " 'http://quotes.toscrape.com/page/3/',\n",
       " 'http://quotes.toscrape.com/page/4/',\n",
       " 'http://quotes.toscrape.com/page/5/',\n",
       " 'http://quotes.toscrape.com/page/6/',\n",
       " 'http://quotes.toscrape.com/page/7/',\n",
       " 'http://quotes.toscrape.com/page/8/',\n",
       " 'http://quotes.toscrape.com/page/9/',\n",
       " 'http://quotes.toscrape.com/page/10/']"
      ]
     },
     "execution_count": 3,
     "metadata": {},
     "output_type": "execute_result"
    }
   ],
   "source": [
    "# Making Links\n",
    "i=1\n",
    "Links=[]\n",
    "while i<=10:\n",
    "    Links.append(\"http://quotes.toscrape.com/page/\"+str(i)+\"/\")\n",
    "    i+=1\n",
    "Links"
   ]
  },
  {
   "cell_type": "code",
   "execution_count": 5,
   "id": "cde6294a",
   "metadata": {},
   "outputs": [
    {
     "data": {
      "text/plain": [
       "['“The person, be it gentleman or lady, who has not pleasure in a good novel, must be intolerably stupid.”',\n",
       " '“A day without sunshine is like, you know, night.”',\n",
       " '“Anyone who thinks sitting in church can make you a Christian must also think that sitting in a garage can make you a car.”',\n",
       " '“Beauty is in the eye of the beholder and it may be necessary from time to time to give a stupid or misinformed beholder a black eye.”',\n",
       " \"“All you need is love. But a little chocolate now and then doesn't hurt.”\",\n",
       " \"“Remember, we're madly in love, so it's all right to kiss me anytime you feel like it.”\",\n",
       " '“Some people never go crazy. What truly horrible lives they must lead.”',\n",
       " '“The trouble with having an open mind, of course, is that people will insist on coming along and trying to put things in it.”',\n",
       " '“Think left and think right and think low and think high. Oh, the thinks you can think up if only you try!”',\n",
       " '“The reason I talk to myself is because I’m the only one whose answers I accept.”',\n",
       " '“I am free of all prejudice. I hate everyone equally. ”',\n",
       " \"“A lady's imagination is very rapid; it jumps from admiration to love, from love to matrimony in a moment.”\"]"
      ]
     },
     "execution_count": 5,
     "metadata": {},
     "output_type": "execute_result"
    }
   ],
   "source": [
    "ans=[]\n",
    "for i in Links:\n",
    "    r=requests.get(i)\n",
    "    html=r.text\n",
    "    data=BeautifulSoup(html,'html.parser')\n",
    "    temp=data.find_all('div',class_='quote')\n",
    "    for j in temp:\n",
    "        temp1=j.find_all('a',class_='tag')\n",
    "        quote=[]\n",
    "        for k in temp1:\n",
    "            quote.append(k.string)\n",
    "        if \"humor\" in quote:\n",
    "            ans.append(j.span.string)\n",
    "ans\n",
    "            \n",
    "    "
   ]
  },
  {
   "cell_type": "code",
   "execution_count": 8,
   "id": "a398d95e",
   "metadata": {},
   "outputs": [
    {
     "name": "stdout",
     "output_type": "stream",
     "text": [
      "“The person, be it gentleman or lady, who has not pleasure in a good novel, must be intolerably stupid.”\n",
      "“A day without sunshine is like, you know, night.”\n",
      "“Anyone who thinks sitting in church can make you a Christian must also think that sitting in a garage can make you a car.”\n",
      "“Beauty is in the eye of the beholder and it may be necessary from time to time to give a stupid or misinformed beholder a black eye.”\n",
      "“All you need is love. But a little chocolate now and then doesn't hurt.”\n",
      "“Remember, we're madly in love, so it's all right to kiss me anytime you feel like it.”\n",
      "“Some people never go crazy. What truly horrible lives they must lead.”\n",
      "“The trouble with having an open mind, of course, is that people will insist on coming along and trying to put things in it.”\n",
      "“Think left and think right and think low and think high. Oh, the thinks you can think up if only you try!”\n",
      "“The reason I talk to myself is because I’m the only one whose answers I accept.”\n",
      "“I am free of all prejudice. I hate everyone equally. ”\n",
      "“A lady's imagination is very rapid; it jumps from admiration to love, from love to matrimony in a moment.”\n"
     ]
    }
   ],
   "source": [
    "# Answer\n",
    "for m in ans:\n",
    "    print(m)"
   ]
  }
 ],
 "metadata": {
  "kernelspec": {
   "display_name": "Python 3 (ipykernel)",
   "language": "python",
   "name": "python3"
  },
  "language_info": {
   "codemirror_mode": {
    "name": "ipython",
    "version": 3
   },
   "file_extension": ".py",
   "mimetype": "text/x-python",
   "name": "python",
   "nbconvert_exporter": "python",
   "pygments_lexer": "ipython3",
   "version": "3.9.7"
  }
 },
 "nbformat": 4,
 "nbformat_minor": 5
}
