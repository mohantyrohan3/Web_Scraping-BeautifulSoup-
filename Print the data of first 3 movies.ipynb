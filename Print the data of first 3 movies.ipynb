{
 "cells": [
  {
   "cell_type": "markdown",
   "id": "99bef51e",
   "metadata": {},
   "source": [
    "# From this link \n",
    "https://www.imdb.com/search/title/?release_date=2018&sort=num_votes,desc&page=1&ref_=adv_nxt\n",
    "### Find and print the name and genre of the first 3 titles"
   ]
  },
  {
   "cell_type": "code",
   "execution_count": 2,
   "id": "e8e736d7",
   "metadata": {},
   "outputs": [
    {
     "data": {
      "text/plain": [
       "<Response [200]>"
      ]
     },
     "execution_count": 2,
     "metadata": {},
     "output_type": "execute_result"
    }
   ],
   "source": [
    "import requests\n",
    "from bs4 import BeautifulSoup\n",
    "\n",
    "r=requests.get(\"https://www.imdb.com/search/title/?release_date=2018&sort=num_votes,desc&page=1&ref_=adv_nxt\")\n",
    "r"
   ]
  },
  {
   "cell_type": "code",
   "execution_count": 5,
   "id": "2a3a2ed1",
   "metadata": {},
   "outputs": [],
   "source": [
    "html=r.text\n",
    "data=BeautifulSoup(html,'html.parser')"
   ]
  },
  {
   "cell_type": "code",
   "execution_count": 7,
   "id": "c9fb0d32",
   "metadata": {
    "scrolled": true
   },
   "outputs": [
    {
     "data": {
      "text/plain": [
       "50"
      ]
     },
     "execution_count": 7,
     "metadata": {},
     "output_type": "execute_result"
    }
   ],
   "source": [
    "ans1=data.find_all('div',class_='lister-item-content')\n",
    "len(ans1)"
   ]
  },
  {
   "cell_type": "code",
   "execution_count": 14,
   "id": "8dad5073",
   "metadata": {},
   "outputs": [
    {
     "name": "stdout",
     "output_type": "stream",
     "text": [
      "Avengers: Infinity War Action, Adventure, Sci-Fi\n",
      "Black Panther Action, Adventure, Sci-Fi\n",
      "Deadpool 2 Action, Adventure, Comedy\n"
     ]
    }
   ],
   "source": [
    "i1 = 0 \n",
    "for i in ans1:\n",
    "    if i1 !=3 :\n",
    "        print(i.h3.a.string,end=' ')\n",
    "        temp=i.find('span',class_='genre')\n",
    "        temp1=temp.stripped_strings\n",
    "        for i in temp1:\n",
    "            print(i,end='')\n",
    "    else:\n",
    "        break\n",
    "    print()\n",
    "    i1+=1\n",
    "    "
   ]
  }
 ],
 "metadata": {
  "kernelspec": {
   "display_name": "Python 3 (ipykernel)",
   "language": "python",
   "name": "python3"
  },
  "language_info": {
   "codemirror_mode": {
    "name": "ipython",
    "version": 3
   },
   "file_extension": ".py",
   "mimetype": "text/x-python",
   "name": "python",
   "nbconvert_exporter": "python",
   "pygments_lexer": "ipython3",
   "version": "3.9.7"
  }
 },
 "nbformat": 4,
 "nbformat_minor": 5
}
