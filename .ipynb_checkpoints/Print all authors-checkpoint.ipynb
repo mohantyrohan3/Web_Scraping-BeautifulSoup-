{
 "cells": [
  {
   "cell_type": "markdown",
   "id": "2495ae11",
   "metadata": {},
   "source": [
    "# Find and print the names of all the different authors from all pages of this website\n",
    "http://quotes.toscrape.com/\n",
    "# Note : Print the names of all authors line wise sorted in dictionary order"
   ]
  },
  {
   "cell_type": "code",
   "execution_count": 11,
   "id": "ff9cf6e9",
   "metadata": {},
   "outputs": [],
   "source": [
    "from bs4 import BeautifulSoup\n",
    "import requests"
   ]
  },
  {
   "cell_type": "code",
   "execution_count": 2,
   "id": "3c6a4882",
   "metadata": {},
   "outputs": [
    {
     "data": {
      "text/plain": [
       "['http://quotes.toscrape.com/page/1/',\n",
       " 'http://quotes.toscrape.com/page/2/',\n",
       " 'http://quotes.toscrape.com/page/3/',\n",
       " 'http://quotes.toscrape.com/page/4/',\n",
       " 'http://quotes.toscrape.com/page/5/',\n",
       " 'http://quotes.toscrape.com/page/6/',\n",
       " 'http://quotes.toscrape.com/page/7/',\n",
       " 'http://quotes.toscrape.com/page/8/',\n",
       " 'http://quotes.toscrape.com/page/9/',\n",
       " 'http://quotes.toscrape.com/page/10/']"
      ]
     },
     "execution_count": 2,
     "metadata": {},
     "output_type": "execute_result"
    }
   ],
   "source": [
    "# Making Links\n",
    "i=1\n",
    "Links=[]\n",
    "while i<=10:\n",
    "    Links.append(\"http://quotes.toscrape.com/page/\"+str(i)+\"/\")\n",
    "    i+=1\n",
    "Links"
   ]
  },
  {
   "cell_type": "code",
   "execution_count": 10,
   "id": "955df2da",
   "metadata": {},
   "outputs": [
    {
     "data": {
      "text/plain": [
       "{'Albert Einstein': 1,\n",
       " 'J.K. Rowling': 1,\n",
       " 'Jane Austen': 1,\n",
       " 'Marilyn Monroe': 1,\n",
       " 'André Gide': 1,\n",
       " 'Thomas A. Edison': 1,\n",
       " 'Eleanor Roosevelt': 1,\n",
       " 'Steve Martin': 1,\n",
       " 'Bob Marley': 1,\n",
       " 'Dr. Seuss': 1,\n",
       " 'Douglas Adams': 1,\n",
       " 'Elie Wiesel': 1,\n",
       " 'Friedrich Nietzsche': 1,\n",
       " 'Mark Twain': 1,\n",
       " 'Allen Saunders': 1,\n",
       " 'Pablo Neruda': 1,\n",
       " 'Ralph Waldo Emerson': 1,\n",
       " 'Mother Teresa': 1,\n",
       " 'Garrison Keillor': 1,\n",
       " 'Jim Henson': 1,\n",
       " 'Charles M. Schulz': 1,\n",
       " 'William Nicholson': 1,\n",
       " 'Jorge Luis Borges': 1,\n",
       " 'George Eliot': 1,\n",
       " 'George R.R. Martin': 1,\n",
       " 'C.S. Lewis': 1,\n",
       " 'Martin Luther King Jr.': 1,\n",
       " 'James Baldwin': 1,\n",
       " 'Haruki Murakami': 1,\n",
       " 'Alexandre Dumas fils': 1,\n",
       " 'Stephenie Meyer': 1,\n",
       " 'Ernest Hemingway': 1,\n",
       " 'Helen Keller': 1,\n",
       " 'George Bernard Shaw': 1,\n",
       " 'Charles Bukowski': 1,\n",
       " 'Suzanne Collins': 1,\n",
       " 'J.R.R. Tolkien': 1,\n",
       " 'Alfred Tennyson': 1,\n",
       " 'Terry Pratchett': 1,\n",
       " 'J.D. Salinger': 1,\n",
       " 'George Carlin': 1,\n",
       " 'John Lennon': 1,\n",
       " 'W.C. Fields': 1,\n",
       " 'Ayn Rand': 1,\n",
       " 'Jimi Hendrix': 1,\n",
       " 'J.M. Barrie': 1,\n",
       " 'E.E. Cummings': 1,\n",
       " 'Khaled Hosseini': 1,\n",
       " 'Harper Lee': 1,\n",
       " \"Madeleine L'Engle\": 1}"
      ]
     },
     "execution_count": 10,
     "metadata": {},
     "output_type": "execute_result"
    }
   ],
   "source": [
    "ans={}\n",
    "for i in Links:\n",
    "    r=requests.get(i)\n",
    "    html=r.text\n",
    "    data=BeautifulSoup(html,'html.parser')\n",
    "    temp=data.find_all('div',class_='quote')\n",
    "    for j in temp:\n",
    "        auth=j.find('small',class_='author')\n",
    "        ans[auth.string]=1\n",
    "ans"
   ]
  },
  {
   "cell_type": "code",
   "execution_count": 12,
   "id": "6df1c9bb",
   "metadata": {},
   "outputs": [
    {
     "name": "stdout",
     "output_type": "stream",
     "text": [
      "Albert Einstein\n",
      "Alexandre Dumas fils\n",
      "Alfred Tennyson\n",
      "Allen Saunders\n",
      "André Gide\n",
      "Ayn Rand\n",
      "Bob Marley\n",
      "C.S. Lewis\n",
      "Charles Bukowski\n",
      "Charles M. Schulz\n",
      "Douglas Adams\n",
      "Dr. Seuss\n",
      "E.E. Cummings\n",
      "Eleanor Roosevelt\n",
      "Elie Wiesel\n",
      "Ernest Hemingway\n",
      "Friedrich Nietzsche\n",
      "Garrison Keillor\n",
      "George Bernard Shaw\n",
      "George Carlin\n",
      "George Eliot\n",
      "George R.R. Martin\n",
      "Harper Lee\n",
      "Haruki Murakami\n",
      "Helen Keller\n",
      "J.D. Salinger\n",
      "J.K. Rowling\n",
      "J.M. Barrie\n",
      "J.R.R. Tolkien\n",
      "James Baldwin\n",
      "Jane Austen\n",
      "Jim Henson\n",
      "Jimi Hendrix\n",
      "John Lennon\n",
      "Jorge Luis Borges\n",
      "Khaled Hosseini\n",
      "Madeleine L'Engle\n",
      "Marilyn Monroe\n",
      "Mark Twain\n",
      "Martin Luther King Jr.\n",
      "Mother Teresa\n",
      "Pablo Neruda\n",
      "Ralph Waldo Emerson\n",
      "Stephenie Meyer\n",
      "Steve Martin\n",
      "Suzanne Collins\n",
      "Terry Pratchett\n",
      "Thomas A. Edison\n",
      "W.C. Fields\n",
      "William Nicholson\n"
     ]
    }
   ],
   "source": [
    "# Answers\n",
    "from collections import OrderedDict\n",
    "dict1 = OrderedDict(sorted(ans.items()))\n",
    "# print(dict1)\n",
    "for m in dict1:\n",
    "    print(m)"
   ]
  }
 ],
 "metadata": {
  "kernelspec": {
   "display_name": "Python 3 (ipykernel)",
   "language": "python",
   "name": "python3"
  },
  "language_info": {
   "codemirror_mode": {
    "name": "ipython",
    "version": 3
   },
   "file_extension": ".py",
   "mimetype": "text/x-python",
   "name": "python",
   "nbconvert_exporter": "python",
   "pygments_lexer": "ipython3",
   "version": "3.9.7"
  }
 },
 "nbformat": 4,
 "nbformat_minor": 5
}
