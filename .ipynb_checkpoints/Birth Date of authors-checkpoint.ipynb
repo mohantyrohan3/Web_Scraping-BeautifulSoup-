{
 "cells": [
  {
   "cell_type": "markdown",
   "id": "41217509",
   "metadata": {},
   "source": [
    "# Find the birth date of authors whose name start with 'J' from this website\n",
    "http://quotes.toscrape.com/\n",
    "# Note : Print a dictionary containing the name as key and the birth date as value.The Names of authors should be alphabetically sorted."
   ]
  },
  {
   "cell_type": "code",
   "execution_count": 1,
   "id": "54f4a1f1",
   "metadata": {},
   "outputs": [],
   "source": [
    "from bs4 import BeautifulSoup\n",
    "import requests"
   ]
  },
  {
   "cell_type": "code",
   "execution_count": 2,
   "id": "1700e216",
   "metadata": {},
   "outputs": [
    {
     "data": {
      "text/plain": [
       "['http://quotes.toscrape.com/page/1/',\n",
       " 'http://quotes.toscrape.com/page/2/',\n",
       " 'http://quotes.toscrape.com/page/3/',\n",
       " 'http://quotes.toscrape.com/page/4/',\n",
       " 'http://quotes.toscrape.com/page/5/',\n",
       " 'http://quotes.toscrape.com/page/6/',\n",
       " 'http://quotes.toscrape.com/page/7/',\n",
       " 'http://quotes.toscrape.com/page/8/',\n",
       " 'http://quotes.toscrape.com/page/9/',\n",
       " 'http://quotes.toscrape.com/page/10/']"
      ]
     },
     "execution_count": 2,
     "metadata": {},
     "output_type": "execute_result"
    }
   ],
   "source": [
    "# Making Links\n",
    "i=1\n",
    "Links=[]\n",
    "while i<=10:\n",
    "    Links.append(\"http://quotes.toscrape.com/page/\"+str(i)+\"/\")\n",
    "    i+=1\n",
    "Links"
   ]
  },
  {
   "cell_type": "code",
   "execution_count": 26,
   "id": "f961e4c0",
   "metadata": {},
   "outputs": [
    {
     "data": {
      "text/plain": [
       "{'Albert Einstein': 'March 14, 1879',\n",
       " 'J.K. Rowling': 'July 31, 1965',\n",
       " 'Jane Austen': 'December 16, 1775',\n",
       " 'Marilyn Monroe': 'June 01, 1926',\n",
       " 'André Gide': 'November 22, 1869',\n",
       " 'Thomas A. Edison': 'February 11, 1847',\n",
       " 'Eleanor Roosevelt': 'October 11, 1884',\n",
       " 'Steve Martin': 'August 14, 1945',\n",
       " 'Bob Marley': 'February 06, 1945',\n",
       " 'Dr. Seuss': 'March 02, 1904',\n",
       " 'Douglas Adams': 'March 11, 1952',\n",
       " 'Elie Wiesel': 'September 30, 1928',\n",
       " 'Friedrich Nietzsche': 'October 15, 1844',\n",
       " 'Mark Twain': 'November 30, 1835',\n",
       " 'Allen Saunders': 'April 24, 1899',\n",
       " 'Pablo Neruda': 'July 12, 1904',\n",
       " 'Ralph Waldo Emerson': 'May 25, 1803',\n",
       " 'Mother Teresa': 'August 26, 1910',\n",
       " 'Garrison Keillor': 'August 07, 1942',\n",
       " 'Jim Henson': 'September 24, 1936',\n",
       " 'Charles M. Schulz': 'November 26, 1922',\n",
       " 'William Nicholson': 'January 12, 1948',\n",
       " 'Jorge Luis Borges': 'August 24, 1899',\n",
       " 'George Eliot': 'November 22, 1819',\n",
       " 'George R.R. Martin': 'September 20, 1948',\n",
       " 'C.S. Lewis': 'November 29, 1898',\n",
       " 'Martin Luther King Jr.': 'January 15, 1929',\n",
       " 'James Baldwin': 'August 02, 1924',\n",
       " 'Haruki Murakami': 'January 12, 1949',\n",
       " 'Alexandre Dumas fils': 'July 27, 1824',\n",
       " 'Stephenie Meyer': 'December 24, 1973',\n",
       " 'Ernest Hemingway': 'July 21, 1899',\n",
       " 'Helen Keller': 'June 27, 1880',\n",
       " 'George Bernard Shaw': 'July 26, 1856',\n",
       " 'Charles Bukowski': 'August 16, 1920',\n",
       " 'Suzanne Collins': 'August 11, 1962',\n",
       " 'J.R.R. Tolkien': 'January 03, 1892',\n",
       " 'Alfred Tennyson': 'August 06, 1809',\n",
       " 'Terry Pratchett': 'April 28, 1948',\n",
       " 'J.D. Salinger': 'January 01, 1919',\n",
       " 'George Carlin': 'May 12, 1937',\n",
       " 'John Lennon': 'October 09, 1940',\n",
       " 'W.C. Fields': 'January 29, 1880',\n",
       " 'Ayn Rand': 'February 02, 1905',\n",
       " 'Jimi Hendrix': 'November 27, 1942',\n",
       " 'J.M. Barrie': 'May 09, 1860',\n",
       " 'E.E. Cummings': 'October 14, 1894',\n",
       " 'Khaled Hosseini': 'March 04, 1965',\n",
       " 'Harper Lee': 'April 28, 1926',\n",
       " \"Madeleine L'Engle\": 'November 29, 1918'}"
      ]
     },
     "execution_count": 26,
     "metadata": {},
     "output_type": "execute_result"
    }
   ],
   "source": [
    "ans={}\n",
    "url='http://quotes.toscrape.com/'\n",
    "for i in Links:\n",
    "    r=requests.get(i)\n",
    "    html=r.text\n",
    "    data=BeautifulSoup(html,'html.parser')\n",
    "    temp=data.find_all('div',class_='quote')\n",
    "    for j in temp:\n",
    "        ans11=j.find('small',class_='author')\n",
    "        ans1=list(ans11.next_siblings)\n",
    "        url1=url+ans1[1].get('href')\n",
    "        r1=requests.get(url1)\n",
    "        html1=r1.text\n",
    "        data1=BeautifulSoup(html1,'html.parser')\n",
    "        ans12=data1.find('span',class_='author-born-date')\n",
    "        if ans12 != None:\n",
    "            ans[j.small.string]=ans12.string\n",
    "ans\n",
    "    "
   ]
  },
  {
   "cell_type": "code",
   "execution_count": 27,
   "id": "be5b714d",
   "metadata": {},
   "outputs": [
    {
     "name": "stdout",
     "output_type": "stream",
     "text": [
      "OrderedDict([('Albert Einstein', 'March 14, 1879'), ('Alexandre Dumas fils', 'July 27, 1824'), ('Alfred Tennyson', 'August 06, 1809'), ('Allen Saunders', 'April 24, 1899'), ('André Gide', 'November 22, 1869'), ('Ayn Rand', 'February 02, 1905'), ('Bob Marley', 'February 06, 1945'), ('C.S. Lewis', 'November 29, 1898'), ('Charles Bukowski', 'August 16, 1920'), ('Charles M. Schulz', 'November 26, 1922'), ('Douglas Adams', 'March 11, 1952'), ('Dr. Seuss', 'March 02, 1904'), ('E.E. Cummings', 'October 14, 1894'), ('Eleanor Roosevelt', 'October 11, 1884'), ('Elie Wiesel', 'September 30, 1928'), ('Ernest Hemingway', 'July 21, 1899'), ('Friedrich Nietzsche', 'October 15, 1844'), ('Garrison Keillor', 'August 07, 1942'), ('George Bernard Shaw', 'July 26, 1856'), ('George Carlin', 'May 12, 1937'), ('George Eliot', 'November 22, 1819'), ('George R.R. Martin', 'September 20, 1948'), ('Harper Lee', 'April 28, 1926'), ('Haruki Murakami', 'January 12, 1949'), ('Helen Keller', 'June 27, 1880'), ('J.D. Salinger', 'January 01, 1919'), ('J.K. Rowling', 'July 31, 1965'), ('J.M. Barrie', 'May 09, 1860'), ('J.R.R. Tolkien', 'January 03, 1892'), ('James Baldwin', 'August 02, 1924'), ('Jane Austen', 'December 16, 1775'), ('Jim Henson', 'September 24, 1936'), ('Jimi Hendrix', 'November 27, 1942'), ('John Lennon', 'October 09, 1940'), ('Jorge Luis Borges', 'August 24, 1899'), ('Khaled Hosseini', 'March 04, 1965'), (\"Madeleine L'Engle\", 'November 29, 1918'), ('Marilyn Monroe', 'June 01, 1926'), ('Mark Twain', 'November 30, 1835'), ('Martin Luther King Jr.', 'January 15, 1929'), ('Mother Teresa', 'August 26, 1910'), ('Pablo Neruda', 'July 12, 1904'), ('Ralph Waldo Emerson', 'May 25, 1803'), ('Stephenie Meyer', 'December 24, 1973'), ('Steve Martin', 'August 14, 1945'), ('Suzanne Collins', 'August 11, 1962'), ('Terry Pratchett', 'April 28, 1948'), ('Thomas A. Edison', 'February 11, 1847'), ('W.C. Fields', 'January 29, 1880'), ('William Nicholson', 'January 12, 1948')])\n"
     ]
    }
   ],
   "source": [
    "# Answer\n",
    "from collections import OrderedDict\n",
    "dict1 = OrderedDict(sorted(ans.items()))\n",
    "print(dict1)"
   ]
  }
 ],
 "metadata": {
  "kernelspec": {
   "display_name": "Python 3 (ipykernel)",
   "language": "python",
   "name": "python3"
  },
  "language_info": {
   "codemirror_mode": {
    "name": "ipython",
    "version": 3
   },
   "file_extension": ".py",
   "mimetype": "text/x-python",
   "name": "python",
   "nbconvert_exporter": "python",
   "pygments_lexer": "ipython3",
   "version": "3.9.7"
  }
 },
 "nbformat": 4,
 "nbformat_minor": 5
}
